{
 "metadata": {
  "language_info": {
   "codemirror_mode": {
    "name": "ipython",
    "version": 3
   },
   "file_extension": ".py",
   "mimetype": "text/x-python",
   "name": "python",
   "nbconvert_exporter": "python",
   "pygments_lexer": "ipython3",
   "version": "3.8.5-final"
  },
  "orig_nbformat": 2,
  "kernelspec": {
   "name": "bea",
   "display_name": "bea",
   "language": "python"
  }
 },
 "nbformat": 4,
 "nbformat_minor": 2,
 "cells": [
  {
   "cell_type": "code",
   "execution_count": 1,
   "metadata": {},
   "outputs": [],
   "source": [
    "from bea import getDataSetList"
   ]
  },
  {
   "cell_type": "code",
   "execution_count": 2,
   "metadata": {},
   "outputs": [],
   "source": [
    "dataSetList = getDataSetList()"
   ]
  },
  {
   "cell_type": "code",
   "execution_count": 3,
   "metadata": {},
   "outputs": [
    {
     "output_type": "execute_result",
     "data": {
      "text/plain": [
       "                DatasetName                    DatasetDescription\n",
       "0                      NIPA                  Standard NIPA tables\n",
       "1        NIUnderlyingDetail  Standard NI underlying detail tables\n",
       "2                       MNE             Multinational Enterprises\n",
       "3               FixedAssets          Standard Fixed Assets tables\n",
       "4                       ITA   International Transactions Accounts\n",
       "5                       IIP     International Investment Position\n",
       "6               InputOutput                     Input-Output Data\n",
       "7             IntlServTrade          International Services Trade\n",
       "8             GDPbyIndustry                       GDP by Industry\n",
       "9                  Regional                    Regional data sets\n",
       "10  UnderlyingGDPbyIndustry            Underlying GDP by Industry\n",
       "11       APIDatasetMetaData     Metadata about other API datasets"
      ],
      "text/html": "<div>\n<style scoped>\n    .dataframe tbody tr th:only-of-type {\n        vertical-align: middle;\n    }\n\n    .dataframe tbody tr th {\n        vertical-align: top;\n    }\n\n    .dataframe thead th {\n        text-align: right;\n    }\n</style>\n<table border=\"1\" class=\"dataframe\">\n  <thead>\n    <tr style=\"text-align: right;\">\n      <th></th>\n      <th>DatasetName</th>\n      <th>DatasetDescription</th>\n    </tr>\n  </thead>\n  <tbody>\n    <tr>\n      <th>0</th>\n      <td>NIPA</td>\n      <td>Standard NIPA tables</td>\n    </tr>\n    <tr>\n      <th>1</th>\n      <td>NIUnderlyingDetail</td>\n      <td>Standard NI underlying detail tables</td>\n    </tr>\n    <tr>\n      <th>2</th>\n      <td>MNE</td>\n      <td>Multinational Enterprises</td>\n    </tr>\n    <tr>\n      <th>3</th>\n      <td>FixedAssets</td>\n      <td>Standard Fixed Assets tables</td>\n    </tr>\n    <tr>\n      <th>4</th>\n      <td>ITA</td>\n      <td>International Transactions Accounts</td>\n    </tr>\n    <tr>\n      <th>5</th>\n      <td>IIP</td>\n      <td>International Investment Position</td>\n    </tr>\n    <tr>\n      <th>6</th>\n      <td>InputOutput</td>\n      <td>Input-Output Data</td>\n    </tr>\n    <tr>\n      <th>7</th>\n      <td>IntlServTrade</td>\n      <td>International Services Trade</td>\n    </tr>\n    <tr>\n      <th>8</th>\n      <td>GDPbyIndustry</td>\n      <td>GDP by Industry</td>\n    </tr>\n    <tr>\n      <th>9</th>\n      <td>Regional</td>\n      <td>Regional data sets</td>\n    </tr>\n    <tr>\n      <th>10</th>\n      <td>UnderlyingGDPbyIndustry</td>\n      <td>Underlying GDP by Industry</td>\n    </tr>\n    <tr>\n      <th>11</th>\n      <td>APIDatasetMetaData</td>\n      <td>Metadata about other API datasets</td>\n    </tr>\n  </tbody>\n</table>\n</div>"
     },
     "metadata": {},
     "execution_count": 3
    }
   ],
   "source": [
    "dataSetList"
   ]
  },
  {
   "cell_type": "code",
   "execution_count": null,
   "metadata": {},
   "outputs": [],
   "source": []
  }
 ]
}