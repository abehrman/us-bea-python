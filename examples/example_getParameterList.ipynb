{
 "metadata": {
  "language_info": {
   "codemirror_mode": {
    "name": "ipython",
    "version": 3
   },
   "file_extension": ".py",
   "mimetype": "text/x-python",
   "name": "python",
   "nbconvert_exporter": "python",
   "pygments_lexer": "ipython3",
   "version": "3.8.5-final"
  },
  "orig_nbformat": 2,
  "kernelspec": {
   "name": "bea",
   "display_name": "bea",
   "language": "python"
  }
 },
 "nbformat": 4,
 "nbformat_minor": 2,
 "cells": [
  {
   "cell_type": "code",
   "execution_count": 1,
   "metadata": {},
   "outputs": [],
   "source": [
    "from bea import getParameterList"
   ]
  },
  {
   "cell_type": "code",
   "execution_count": 2,
   "metadata": {},
   "outputs": [],
   "source": [
    "# Regional dataset\n",
    "paramsList = getParameterList(\"Regional\")"
   ]
  },
  {
   "cell_type": "code",
   "execution_count": 3,
   "metadata": {},
   "outputs": [
    {
     "output_type": "execute_result",
     "data": {
      "text/plain": [
       "  ParameterName ParameterDataType  \\\n",
       "0       GeoFips            string   \n",
       "1      LineCode           integer   \n",
       "2     TableName            string   \n",
       "3          Year            string   \n",
       "\n",
       "                                ParameterDescription ParameterIsRequiredFlag  \\\n",
       "0  Comma-delimited list of 5-character geographic...                       1   \n",
       "1              Line code for a statistic or industry                       1   \n",
       "2       Regional income or product table to retrieve                       1   \n",
       "3  Comma-delimted list of years; LAST5 for latest...                       0   \n",
       "\n",
       "  MultipleAcceptedFlag ParameterDefaultValue  \n",
       "0                    1                   NaN  \n",
       "1                    0                   NaN  \n",
       "2                    0                        \n",
       "3                    1                 LAST5  "
      ],
      "text/html": "<div>\n<style scoped>\n    .dataframe tbody tr th:only-of-type {\n        vertical-align: middle;\n    }\n\n    .dataframe tbody tr th {\n        vertical-align: top;\n    }\n\n    .dataframe thead th {\n        text-align: right;\n    }\n</style>\n<table border=\"1\" class=\"dataframe\">\n  <thead>\n    <tr style=\"text-align: right;\">\n      <th></th>\n      <th>ParameterName</th>\n      <th>ParameterDataType</th>\n      <th>ParameterDescription</th>\n      <th>ParameterIsRequiredFlag</th>\n      <th>MultipleAcceptedFlag</th>\n      <th>ParameterDefaultValue</th>\n    </tr>\n  </thead>\n  <tbody>\n    <tr>\n      <th>0</th>\n      <td>GeoFips</td>\n      <td>string</td>\n      <td>Comma-delimited list of 5-character geographic...</td>\n      <td>1</td>\n      <td>1</td>\n      <td>NaN</td>\n    </tr>\n    <tr>\n      <th>1</th>\n      <td>LineCode</td>\n      <td>integer</td>\n      <td>Line code for a statistic or industry</td>\n      <td>1</td>\n      <td>0</td>\n      <td>NaN</td>\n    </tr>\n    <tr>\n      <th>2</th>\n      <td>TableName</td>\n      <td>string</td>\n      <td>Regional income or product table to retrieve</td>\n      <td>1</td>\n      <td>0</td>\n      <td></td>\n    </tr>\n    <tr>\n      <th>3</th>\n      <td>Year</td>\n      <td>string</td>\n      <td>Comma-delimted list of years; LAST5 for latest...</td>\n      <td>0</td>\n      <td>1</td>\n      <td>LAST5</td>\n    </tr>\n  </tbody>\n</table>\n</div>"
     },
     "metadata": {},
     "execution_count": 3
    }
   ],
   "source": [
    "paramsList"
   ]
  },
  {
   "cell_type": "code",
   "execution_count": 4,
   "metadata": {},
   "outputs": [
    {
     "output_type": "execute_result",
     "data": {
      "text/plain": [
       "    ParameterName ParameterDataType           ParameterDescription  \\\n",
       "0   TypeOfService            string  The type of service requested   \n",
       "1  TradeDirection            string  The trade direction requested   \n",
       "2     Affiliation            string      The affiliation requested   \n",
       "3   AreaOrCountry            string  The area or country requested   \n",
       "4            Year            string             The year requested   \n",
       "\n",
       "  ParameterIsRequiredFlag ParameterDefaultValue MultipleAcceptedFlag AllValue  \n",
       "0                       0                   ALL                    1      ALL  \n",
       "1                       0                   ALL                    1      ALL  \n",
       "2                       0                   ALL                    1      ALL  \n",
       "3                       0          AllCountries                    1      ALL  \n",
       "4                       0                   ALL                    1      ALL  "
      ],
      "text/html": "<div>\n<style scoped>\n    .dataframe tbody tr th:only-of-type {\n        vertical-align: middle;\n    }\n\n    .dataframe tbody tr th {\n        vertical-align: top;\n    }\n\n    .dataframe thead th {\n        text-align: right;\n    }\n</style>\n<table border=\"1\" class=\"dataframe\">\n  <thead>\n    <tr style=\"text-align: right;\">\n      <th></th>\n      <th>ParameterName</th>\n      <th>ParameterDataType</th>\n      <th>ParameterDescription</th>\n      <th>ParameterIsRequiredFlag</th>\n      <th>ParameterDefaultValue</th>\n      <th>MultipleAcceptedFlag</th>\n      <th>AllValue</th>\n    </tr>\n  </thead>\n  <tbody>\n    <tr>\n      <th>0</th>\n      <td>TypeOfService</td>\n      <td>string</td>\n      <td>The type of service requested</td>\n      <td>0</td>\n      <td>ALL</td>\n      <td>1</td>\n      <td>ALL</td>\n    </tr>\n    <tr>\n      <th>1</th>\n      <td>TradeDirection</td>\n      <td>string</td>\n      <td>The trade direction requested</td>\n      <td>0</td>\n      <td>ALL</td>\n      <td>1</td>\n      <td>ALL</td>\n    </tr>\n    <tr>\n      <th>2</th>\n      <td>Affiliation</td>\n      <td>string</td>\n      <td>The affiliation requested</td>\n      <td>0</td>\n      <td>ALL</td>\n      <td>1</td>\n      <td>ALL</td>\n    </tr>\n    <tr>\n      <th>3</th>\n      <td>AreaOrCountry</td>\n      <td>string</td>\n      <td>The area or country requested</td>\n      <td>0</td>\n      <td>AllCountries</td>\n      <td>1</td>\n      <td>ALL</td>\n    </tr>\n    <tr>\n      <th>4</th>\n      <td>Year</td>\n      <td>string</td>\n      <td>The year requested</td>\n      <td>0</td>\n      <td>ALL</td>\n      <td>1</td>\n      <td>ALL</td>\n    </tr>\n  </tbody>\n</table>\n</div>"
     },
     "metadata": {},
     "execution_count": 4
    }
   ],
   "source": [
    "paramsList = getParameterList(\"IntlServTrade\")\n",
    "paramsList"
   ]
  },
  {
   "cell_type": "code",
   "execution_count": null,
   "metadata": {},
   "outputs": [],
   "source": []
  }
 ]
}