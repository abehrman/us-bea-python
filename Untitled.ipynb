{
 "cells": [
  {
   "cell_type": "code",
   "execution_count": 22,
   "metadata": {},
   "outputs": [],
   "source": [
    "import requests\n",
    "import os\n",
    "\n",
    "from bea_token import * # imports BEA_API_TOKEN from .env file"
   ]
  },
  {
   "cell_type": "code",
   "execution_count": 23,
   "metadata": {},
   "outputs": [],
   "source": [
    "user_ID = BEA_API_TOKEN\n",
    "\n",
    "base_url = f\"http://apps.bea.gov/api/data?&UserID={user_ID}&method=GETDATASETLIST&ResultFormat=JSON\""
   ]
  },
  {
   "cell_type": "code",
   "execution_count": 26,
   "metadata": {},
   "outputs": [],
   "source": [
    "# GetDataSetList – retrieves a list of the datasets currently offered\n",
    "# GetParameterList – retrieves a list of the parameters(required and optional) for a particular dataset.\n",
    "\n",
    "def getParameterList(dataSetName: str):\n",
    "    global user_ID\n",
    "    url = f\"https://apps.bea.gov/api/data?&UserID={user_ID}&method=getparameterlist&datasetname={dataSetName}&ResultFormat=JSON\"\n",
    "    result = getResult(url)\n",
    "    \n",
    "def getResult(url):\n",
    "    request = requests.get(url)\n",
    "    return request"
   ]
  },
  {
   "cell_type": "code",
   "execution_count": 28,
   "metadata": {},
   "outputs": [
    {
     "name": "stdout",
     "output_type": "stream",
     "text": [
      "C:\\Users\\abehrman\\OneDrive - Investors Bank\\repos\\us-bea-python\n"
     ]
    }
   ],
   "source": [
    "print(os.getcwd())"
   ]
  },
  {
   "cell_type": "code",
   "execution_count": null,
   "metadata": {},
   "outputs": [],
   "source": []
  }
 ],
 "metadata": {
  "kernelspec": {
   "display_name": "bea",
   "language": "python",
   "name": "bea"
  },
  "language_info": {
   "codemirror_mode": {
    "name": "ipython",
    "version": 3
   },
   "file_extension": ".py",
   "mimetype": "text/x-python",
   "name": "python",
   "nbconvert_exporter": "python",
   "pygments_lexer": "ipython3",
   "version": "3.8.5"
  }
 },
 "nbformat": 4,
 "nbformat_minor": 2
}
